{
 "cells": [
  {
   "cell_type": "markdown",
   "metadata": {},
   "source": [
    "# Loading Prior Results"
   ]
  },
  {
   "attachments": {},
   "cell_type": "markdown",
   "metadata": {},
   "source": [
    "The results from a run of pyPetal are both saved in the specified ``output_dir`` and resturned as a large dictionary, sorted by module. There are many instances in which the resulting dictionary may be lost or deleted, and it would be usefult to load the results in the same formatted dictionary, instead of either re-running pyPetal or looking through the output directory. "
   ]
  },
  {
   "attachments": {},
   "cell_type": "markdown",
   "metadata": {},
   "source": [
    "pyPetal has a function to load the results from a prior run and return the formatted dictionary.\n",
    "\n",
    "This can be done quickly by calling the ``load`` function. The only argument this function requires is the output directory from the prior run."
   ]
  },
  {
   "cell_type": "code",
   "execution_count": 4,
   "metadata": {},
   "outputs": [
    {
     "name": "stdout",
     "output_type": "stream",
     "text": [
      "\n",
      "Prior pyPetal run\n",
      "---------------------\n",
      "DRW Rejection: True\n",
      "pyCCF: True\n",
      "pyZDCF: True\n",
      "PyROA: True\n",
      "JAVELIN: True\n",
      "Weighting: True\n",
      "---------------------\n",
      "\n"
     ]
    }
   ],
   "source": [
    "import pypetal.utils.load as load\n",
    "\n",
    "main_dir = 'pypetal/examples/weighting_output/'\n",
    "res, summary = load(main_dir, verbose=True)"
   ]
  },
  {
   "attachments": {},
   "cell_type": "markdown",
   "metadata": {},
   "source": [
    "This resulting dictionary will be formatted in a similar way as the dictionary returned by ``pypetal.pipeline.run_pipeline``. The differences between the original and loaded resulting dictionaries are described below:"
   ]
  },
  {
   "cell_type": "code",
   "execution_count": 6,
   "metadata": {},
   "outputs": [
    {
     "data": {
      "text/plain": [
       "dict_keys(['drw_rej_res', 'pyccf_res', 'pyzdcf_res', 'plike_res', 'pyroa_res', 'javelin_res', 'weighting_res'])"
      ]
     },
     "execution_count": 6,
     "metadata": {},
     "output_type": "execute_result"
    }
   ],
   "source": [
    "res.keys()"
   ]
  },
  {
   "attachments": {},
   "cell_type": "markdown",
   "metadata": {},
   "source": [
    "In addition, if weighting is run, the ``load`` function will return the summary dicts for each of the lines, combined into one ``astropy.table.Table`` object."
   ]
  },
  {
   "cell_type": "code",
   "execution_count": 7,
   "metadata": {},
   "outputs": [
    {
     "data": {
      "text/html": [
       "<div><i>Table length=2</i>\n",
       "<table id=\"table140195950006752\" class=\"table-striped table-bordered table-condensed\">\n",
       "<thead><tr><th>k</th><th>n0_pyccf</th><th>peak_bounds_pyccf</th><th>peak_pyccf</th><th>lag_pyccf</th><th>lag_err_pyccf</th><th>frac_rejected_pyccf</th><th>n0_javelin</th><th>peak_bounds_javelin</th><th>peak_javelin</th><th>lag_javelin</th><th>lag_err_javelin</th><th>frac_rejected_javelin</th><th>n0_pyroa</th><th>peak_bounds_pyroa</th><th>peak_pyroa</th><th>lag_pyroa</th><th>lag_err_pyroa</th><th>frac_rejected_pyroa</th><th>rmax_pyccf</th><th>rmax_javelin</th><th>rmax_pyroa</th></tr></thead>\n",
       "<thead><tr><th>float32</th><th>float32</th><th>float32[2]</th><th>float32</th><th>float32</th><th>float32[2]</th><th>float32</th><th>float32</th><th>float32[2]</th><th>float32</th><th>float32</th><th>float32[2]</th><th>float32</th><th>float32</th><th>float32[2]</th><th>float32</th><th>float32</th><th>float32[2]</th><th>float32</th><th>float32</th><th>float32</th><th>float32</th></tr></thead>\n",
       "<tr><td>3.0</td><td>138.0</td><td>39.874973 .. 167.54588</td><td>103.01151</td><td>103.06764</td><td>5.8499713 .. 7.248151</td><td>0.882</td><td>138.0</td><td>40.31564 .. 241.38957</td><td>101.01151</td><td>156.61809</td><td>56.24691 .. 23.626925</td><td>0.7261</td><td>138.0</td><td>40.347916 .. 162.09218</td><td>101.01151</td><td>100.23002</td><td>1.0400501 .. 1.0701255</td><td>0.0</td><td>0.89146155</td><td>0.89146155</td><td>0.89146155</td></tr>\n",
       "<tr><td>3.0</td><td>138.0</td><td>151.5614 .. 321.3808</td><td>259.0115</td><td>257.79993</td><td>6.0463576 .. 3.784389</td><td>0.5783333</td><td>138.0</td><td>133.44052 .. 302.4789</td><td>209.0115</td><td>204.89114</td><td>1.4374264 .. 42.260357</td><td>0.8954</td><td>138.0</td><td>190.51564 .. 312.1987</td><td>251.0115</td><td>250.3695</td><td>0.8950935 .. 0.86374974</td><td>0.0</td><td>0.8946967</td><td>0.89350605</td><td>0.8968668</td></tr>\n",
       "</table></div>"
      ],
      "text/plain": [
       "<Table length=2>\n",
       "   k    n0_pyccf   peak_bounds_pyccf    ... rmax_pyccf rmax_javelin rmax_pyroa\n",
       "float32 float32        float32[2]       ...  float32     float32     float32  \n",
       "------- -------- ---------------------- ... ---------- ------------ ----------\n",
       "    3.0    138.0 39.874973 .. 167.54588 ... 0.89146155   0.89146155 0.89146155\n",
       "    3.0    138.0   151.5614 .. 321.3808 ...  0.8946967   0.89350605  0.8968668"
      ]
     },
     "execution_count": 7,
     "metadata": {},
     "output_type": "execute_result"
    }
   ],
   "source": [
    "summary"
   ]
  },
  {
   "cell_type": "markdown",
   "metadata": {},
   "source": [
    "## DRW Rejection"
   ]
  },
  {
   "attachments": {},
   "cell_type": "markdown",
   "metadata": {},
   "source": [
    "The ``drw_rej_res`` key has the same structure as the output results, including the original keys. However, if ``jitter=False``, the loaded results will have a ``jitters`` key filled with ``None``. In addition, the loaded results will have the following information in the stated keys:"
   ]
  },
  {
   "attachments": {},
   "cell_type": "markdown",
   "metadata": {},
   "source": [
    "* ``fit_x``: The time values for the DRW fit to the input light curve.\n",
    "* ``fit_y``: The flux values for the DRW fit.\n",
    "* ``fit_err``: The $1\\sigma$ uncertainty in the DRW fit.\n",
    "* ``names``: The names of the lines fit, with the first being the continuum light curve.\n",
    "\n",
    "The arrays containing the DRW fits are arrays of arrays, with each key containning all fits for all lines. The order of these arrays are the same as the ``names`` key."
   ]
  },
  {
   "attachments": {},
   "cell_type": "markdown",
   "metadata": {},
   "source": [
    "## pyCCF"
   ]
  },
  {
   "attachments": {},
   "cell_type": "markdown",
   "metadata": {},
   "source": [
    "The load module only loads a subest of the keys found in the original results, listed below:\n",
    "\n",
    "* ``CCCD_lags``\n",
    "* ``CCPD_lags``\n",
    "* ``CCF``\n",
    "* ``CCF_lags``\n",
    "* ``name``\n",
    "\n",
    "Though, similar to the original dictionary, the ``pyccf_res`` key will have a list of dictionaries, one for each line, containing the keys listed above."
   ]
  },
  {
   "attachments": {},
   "cell_type": "markdown",
   "metadata": {},
   "source": [
    "## pyZDCF"
   ]
  },
  {
   "attachments": {},
   "cell_type": "markdown",
   "metadata": {},
   "source": [
    "``run_pipeline`` will output a list of ``pandas.DataFrame objects``, one for each line, containing the pyZDCF results. The ``load`` function will output a list of dictionaries containing the same information, with the ``DataFrame`` under the ``output`` key and the line name under the ``name`` key."
   ]
  },
  {
   "attachments": {},
   "cell_type": "markdown",
   "metadata": {},
   "source": [
    "## PLIKE"
   ]
  },
  {
   "attachments": {},
   "cell_type": "markdown",
   "metadata": {},
   "source": [
    "The PLIKE results are the same as output by ``run_pipeline``, with an added ``name`` key for the name of the line for each line's dictionary."
   ]
  },
  {
   "attachments": {},
   "cell_type": "markdown",
   "metadata": {},
   "source": [
    "## PyROA"
   ]
  },
  {
   "attachments": {},
   "cell_type": "markdown",
   "metadata": {},
   "source": [
    "The PyROA results are the same as output by ``run_pipeline``."
   ]
  },
  {
   "attachments": {},
   "cell_type": "markdown",
   "metadata": {},
   "source": [
    "## JAVELIN"
   ]
  },
  {
   "attachments": {},
   "cell_type": "markdown",
   "metadata": {},
   "source": [
    "The JAVELIN module will load a subset of the keys found in the original results dictionary, as well as a few new ones. The loaded keys are:\n",
    "\n",
    "* ``sigma``: The MCMC chain for :math:`\\sigma_{\\rm DRW}`.\n",
    "* ``tau``: The MCMC chain for :math:`\\tau_{\\rm DRW}`.\n",
    "* ``tophat_params``: The tophat parameters for the MCMC run.\n",
    "* ``cont_fit_x``: The time values for the continuum fit.\n",
    "* ``cont_fit_y``: The flux values for the continuum fit.\n",
    "* ``cont_fit_yerr``: The $1\\sigma$ uncertainty in the continuum fit.\n",
    "* ``fit_x``: The time values for the line fit.\n",
    "* ``fit_y``: The flux values for the line fit.\n",
    "* ``fit_yerr``: The 1$\\sigma$ uncertainty in the line fit.\n",
    "\n",
    "If ``together=True``, the ``fit_x``, ``fit_y``, and ``fit_yerr`` keys will be lists of arrays, with each array containing the fit for a different line.\n",
    "\n",
    "If ``together=False``, each dictionary will also contain the name of the line in the ``name`` key."
   ]
  },
  {
   "attachments": {},
   "cell_type": "markdown",
   "metadata": {},
   "source": [
    "## Weighting"
   ]
  },
  {
   "attachments": {},
   "cell_type": "markdown",
   "metadata": {},
   "source": [
    "The ``weighting_res`` key will be the same as output from ``run_pipeline``, though with three notable changes:\n",
    "\n",
    "* Under ``pyccf``, there will be no ``CCCD`` key containing the original CCCD from the pyCCF module.\n",
    "* Under ``javelin``, there will be no ``lag_dist`` key containing the lag distribution from the JAVELIN module.\n",
    "* Under ``pyroa``, there will be no ``lag_dist`` key containing the lag distribution from the JAVELIN module.\n",
    "* There will be a ``name`` key in the ``weighting_res`` dictionary containing the names of the lines in order.\n",
    "\n",
    "..note:: The unincluded distributions can be obtained from the ``pyccf_res``, ``pyroa_res``, and ``javelin_res`` dictionaries respectively."
   ]
  }
 ],
 "metadata": {
  "kernelspec": {
   "display_name": "Python 3",
   "language": "python",
   "name": "python3"
  },
  "language_info": {
   "codemirror_mode": {
    "name": "ipython",
    "version": 3
   },
   "file_extension": ".py",
   "mimetype": "text/x-python",
   "name": "python",
   "nbconvert_exporter": "python",
   "pygments_lexer": "ipython3",
   "version": "3.10.10"
  },
  "orig_nbformat": 4,
  "vscode": {
   "interpreter": {
    "hash": "949777d72b0d2535278d3dc13498b2535136f6dfe0678499012e853ee9abcab1"
   }
  }
 },
 "nbformat": 4,
 "nbformat_minor": 2
}
