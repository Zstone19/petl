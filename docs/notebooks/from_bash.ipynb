{
 "cells": [
  {
   "attachments": {},
   "cell_type": "markdown",
   "metadata": {},
   "source": [
    "# Using pyPetal from the Command Line"
   ]
  },
  {
   "attachments": {},
   "cell_type": "markdown",
   "metadata": {},
   "source": [
    "We've seen how to run pyPetal both from the command line and from a TOML file - but is there any way to make it easier?\n",
    "\n",
    "There is a very specific workaround to running each part of pyPetal separately, using ``virtualenv``."
   ]
  },
  {
   "attachments": {},
   "cell_type": "markdown",
   "metadata": {},
   "source": [
    "pyPetal has a few utility functions to create a TOML file and a bash script to run all modules of pyPetal, given two ``virtualenv`` environments - one for pyPetal and one for pyPetal-jav."
   ]
  },
  {
   "attachments": {},
   "cell_type": "markdown",
   "metadata": {},
   "source": [
    "Let's say we've created two ``virtualenv`` environments:\n",
    "\n",
    "\n",
    "For the first, call python3:\n",
    "```\n",
    "python -m venv pypetal_env1\n",
    "cd pypetal_env1\n",
    "source activate\n",
    "pip install pypetal\n",
    "```\n",
    "\n",
    "For the second, call python2:\n",
    "```\n",
    "python -m virtualenv pypetal_env2\n",
    "cd pypetal_env2\n",
    "source activate\n",
    "pip install numpy\n",
    "pip install pypetal-jav\n",
    "```"
   ]
  },
  {
   "attachments": {},
   "cell_type": "markdown",
   "metadata": {},
   "source": [
    "Let's also say we have a TOML file called ``input.toml`` to use as input for pyPetal."
   ]
  },
  {
   "attachments": {},
   "cell_type": "markdown",
   "metadata": {},
   "source": [
    "Now, we can use the following code to create the bash script:"
   ]
  },
  {
   "cell_type": "code",
   "execution_count": null,
   "metadata": {},
   "outputs": [],
   "source": [
    "from pypetal.fromfile.write_bash import write_bash\n",
    "\n",
    "toml_fname = 'input.toml'\n",
    "env1 = 'pypetal_env1/'\n",
    "env2 = 'pypetal_env2/'\n",
    "\n",
    "write_bash( toml_fname, env1, env2 )"
   ]
  },
  {
   "attachments": {},
   "cell_type": "markdown",
   "metadata": {},
   "source": [
    "This should create a bash script named ``run.sh`` in the current working directory. To use, run:\n",
    "\n",
    "```\n",
    "source run.sh\n",
    "```"
   ]
  },
  {
   "attachments": {},
   "cell_type": "markdown",
   "metadata": {},
   "source": [
    "pyPetal also has functionality to make the bash script without a TOML file, given input arguments:"
   ]
  },
  {
   "cell_type": "code",
   "execution_count": null,
   "metadata": {},
   "outputs": [],
   "source": [
    "from pypetal.fromfile.write_bash import bash_from_python\n",
    "\n",
    "toml_fname = 'input.toml'\n",
    "env1 = 'pypetal_env1/'\n",
    "env2 = 'pypetal_env2/'\n",
    "\n",
    "\n",
    "main_dir = 'pypetal/examples/dat/javelin_'\n",
    "line_names = ['continuum', 'yelm', 'zing']\n",
    "filenames = [ main_dir + x + '.dat' for x in line_names ]\n",
    "\n",
    "output_dir = 'bash_output/'\n",
    "\n",
    "drw_rej_params = {\n",
    "    'use_for_javelin': True,\n",
    "    'reject_data': [True, False, True]\n",
    "}\n",
    "\n",
    "pyccf_params = {\n",
    "    'nsim': 2000\n",
    "}\n",
    "\n",
    "pyzdcf_params = {\n",
    "    'run_plike': True,\n",
    "    'plike_dir': 'pypetal/plike_v4/'\n",
    "}\n",
    "\n",
    "pyroa_params = {\n",
    "    'nchain': 20000,\n",
    "    'nburn': 15000,\n",
    "    'psi_types': 'InverseGauss'\n",
    "}\n",
    "\n",
    "javelin_params = {\n",
    "    'nchain': 200,\n",
    "    'nburn': 200,\n",
    "    'nwalker': 200\n",
    "}\n",
    "\n",
    "weighting_params = {\n",
    "    'k': 5\n",
    "}\n",
    "\n",
    "bash_from_python(output_dir, filenames, toml_fname,\n",
    "                 env1, env2, line_names,\n",
    "                 run_drw_rej=True, drw_rej_params=drw_rej_params,\n",
    "                 run_pyccf=True, pyccf_params=pyccf_params,\n",
    "                 run_pyzdcf=True, pyzdcf_params=pyzdcf_params,\n",
    "                 run_pyroa=True, pyroa_params=pyroa_params,\n",
    "                 run_javelin=True, javelin_params=javelin_params,\n",
    "                 run_weighting=True, weighting_params=weighting_params,\n",
    "                 plot=False, verbose=True, lc_unit='', file_fmt='ascii', \n",
    "                 threads=25)"
   ]
  },
  {
   "attachments": {},
   "cell_type": "markdown",
   "metadata": {},
   "source": [
    "This will produce the TOML file ``input.toml`` and the bash script ``run.sh``."
   ]
  }
 ],
 "metadata": {
  "language_info": {
   "name": "python"
  },
  "orig_nbformat": 4
 },
 "nbformat": 4,
 "nbformat_minor": 2
}
